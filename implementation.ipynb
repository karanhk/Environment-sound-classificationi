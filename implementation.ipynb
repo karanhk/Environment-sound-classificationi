{
 "cells": [
  {
   "cell_type": "markdown",
   "id": "96dcc620",
   "metadata": {},
   "source": [
    "# Data Preprocessing"
   ]
  },
  {
   "cell_type": "markdown",
   "id": "5c0fe32a",
   "metadata": {},
   "source": [
    "Importing Libraries"
   ]
  },
  {
   "cell_type": "code",
   "execution_count": 1,
   "id": "947b0b7a",
   "metadata": {},
   "outputs": [],
   "source": [
    "import os\n",
    "import numpy as np \n",
    "import pandas as pd \n",
    "import time as ti \n",
    "import tensorflow as tf\n",
    "from tensorflow.keras import layers, models, activations\n",
    "from keras.utils import plot_model\n",
    "import librosa\n",
    "import librosa.display\n",
    "import matplotlib.pyplot as plt\n",
    "from sklearn.model_selection import train_test_split\n",
    "from IPython.display import Audio, Image\n",
    "\n",
    "pd.options.mode.chained_assignment = None"
   ]
  },
  {
   "cell_type": "markdown",
   "id": "9aaa8ebd",
   "metadata": {},
   "source": [
    "Set physical device to GPU"
   ]
  },
  {
   "cell_type": "code",
   "execution_count": 2,
   "id": "9f3f6da7",
   "metadata": {},
   "outputs": [
    {
     "data": {
      "text/plain": [
       "[PhysicalDevice(name='/physical_device:GPU:0', device_type='GPU')]"
      ]
     },
     "execution_count": 2,
     "metadata": {},
     "output_type": "execute_result"
    }
   ],
   "source": [
    "tf.config.experimental.list_physical_devices('GPU')"
   ]
  },
  {
   "cell_type": "markdown",
   "id": "e94e5de9",
   "metadata": {},
   "source": [
    "Read dataset"
   ]
  },
  {
   "cell_type": "code",
   "execution_count": 3,
   "id": "77064dbc",
   "metadata": {},
   "outputs": [],
   "source": [
    "audio_folder_path = os.getcwd() + '/esc/archive/audio/audio'\n",
    "csv_path =  os.getcwd() + '/esc/archive/esc50.csv'"
   ]
  },
  {
   "cell_type": "code",
   "execution_count": 4,
   "id": "1b73ccbc",
   "metadata": {},
   "outputs": [],
   "source": [
    "dataset = pd.read_csv(csv_path)"
   ]
  },
  {
   "cell_type": "code",
   "execution_count": 5,
   "id": "6e473856",
   "metadata": {},
   "outputs": [
    {
     "data": {
      "text/html": [
       "<div>\n",
       "<style scoped>\n",
       "    .dataframe tbody tr th:only-of-type {\n",
       "        vertical-align: middle;\n",
       "    }\n",
       "\n",
       "    .dataframe tbody tr th {\n",
       "        vertical-align: top;\n",
       "    }\n",
       "\n",
       "    .dataframe thead th {\n",
       "        text-align: right;\n",
       "    }\n",
       "</style>\n",
       "<table border=\"1\" class=\"dataframe\">\n",
       "  <thead>\n",
       "    <tr style=\"text-align: right;\">\n",
       "      <th></th>\n",
       "      <th>filename</th>\n",
       "      <th>fold</th>\n",
       "      <th>target</th>\n",
       "      <th>category</th>\n",
       "      <th>esc10</th>\n",
       "      <th>src_file</th>\n",
       "      <th>take</th>\n",
       "    </tr>\n",
       "  </thead>\n",
       "  <tbody>\n",
       "    <tr>\n",
       "      <th>0</th>\n",
       "      <td>1-100032-A-0.wav</td>\n",
       "      <td>1</td>\n",
       "      <td>0</td>\n",
       "      <td>dog</td>\n",
       "      <td>True</td>\n",
       "      <td>100032</td>\n",
       "      <td>A</td>\n",
       "    </tr>\n",
       "    <tr>\n",
       "      <th>1</th>\n",
       "      <td>1-100038-A-14.wav</td>\n",
       "      <td>1</td>\n",
       "      <td>14</td>\n",
       "      <td>chirping_birds</td>\n",
       "      <td>False</td>\n",
       "      <td>100038</td>\n",
       "      <td>A</td>\n",
       "    </tr>\n",
       "    <tr>\n",
       "      <th>2</th>\n",
       "      <td>1-100210-A-36.wav</td>\n",
       "      <td>1</td>\n",
       "      <td>36</td>\n",
       "      <td>vacuum_cleaner</td>\n",
       "      <td>False</td>\n",
       "      <td>100210</td>\n",
       "      <td>A</td>\n",
       "    </tr>\n",
       "    <tr>\n",
       "      <th>3</th>\n",
       "      <td>1-100210-B-36.wav</td>\n",
       "      <td>1</td>\n",
       "      <td>36</td>\n",
       "      <td>vacuum_cleaner</td>\n",
       "      <td>False</td>\n",
       "      <td>100210</td>\n",
       "      <td>B</td>\n",
       "    </tr>\n",
       "    <tr>\n",
       "      <th>4</th>\n",
       "      <td>1-101296-A-19.wav</td>\n",
       "      <td>1</td>\n",
       "      <td>19</td>\n",
       "      <td>thunderstorm</td>\n",
       "      <td>False</td>\n",
       "      <td>101296</td>\n",
       "      <td>A</td>\n",
       "    </tr>\n",
       "  </tbody>\n",
       "</table>\n",
       "</div>"
      ],
      "text/plain": [
       "            filename  fold  target        category  esc10  src_file take\n",
       "0   1-100032-A-0.wav     1       0             dog   True    100032    A\n",
       "1  1-100038-A-14.wav     1      14  chirping_birds  False    100038    A\n",
       "2  1-100210-A-36.wav     1      36  vacuum_cleaner  False    100210    A\n",
       "3  1-100210-B-36.wav     1      36  vacuum_cleaner  False    100210    B\n",
       "4  1-101296-A-19.wav     1      19    thunderstorm  False    101296    A"
      ]
     },
     "execution_count": 5,
     "metadata": {},
     "output_type": "execute_result"
    }
   ],
   "source": [
    "dataset.head()"
   ]
  },
  {
   "cell_type": "markdown",
   "id": "8f273edb",
   "metadata": {},
   "source": [
    "Extract important features"
   ]
  },
  {
   "cell_type": "code",
   "execution_count": 6,
   "id": "62fba507",
   "metadata": {},
   "outputs": [],
   "source": [
    "dataset = dataset[[\"filename\", \"target\",\"category\"]]"
   ]
  },
  {
   "cell_type": "code",
   "execution_count": 7,
   "id": "97d11395",
   "metadata": {},
   "outputs": [
    {
     "data": {
      "text/html": [
       "<div>\n",
       "<style scoped>\n",
       "    .dataframe tbody tr th:only-of-type {\n",
       "        vertical-align: middle;\n",
       "    }\n",
       "\n",
       "    .dataframe tbody tr th {\n",
       "        vertical-align: top;\n",
       "    }\n",
       "\n",
       "    .dataframe thead th {\n",
       "        text-align: right;\n",
       "    }\n",
       "</style>\n",
       "<table border=\"1\" class=\"dataframe\">\n",
       "  <thead>\n",
       "    <tr style=\"text-align: right;\">\n",
       "      <th></th>\n",
       "      <th>filename</th>\n",
       "      <th>target</th>\n",
       "      <th>category</th>\n",
       "    </tr>\n",
       "  </thead>\n",
       "  <tbody>\n",
       "    <tr>\n",
       "      <th>0</th>\n",
       "      <td>1-100032-A-0.wav</td>\n",
       "      <td>0</td>\n",
       "      <td>dog</td>\n",
       "    </tr>\n",
       "    <tr>\n",
       "      <th>1</th>\n",
       "      <td>1-100038-A-14.wav</td>\n",
       "      <td>14</td>\n",
       "      <td>chirping_birds</td>\n",
       "    </tr>\n",
       "    <tr>\n",
       "      <th>2</th>\n",
       "      <td>1-100210-A-36.wav</td>\n",
       "      <td>36</td>\n",
       "      <td>vacuum_cleaner</td>\n",
       "    </tr>\n",
       "    <tr>\n",
       "      <th>3</th>\n",
       "      <td>1-100210-B-36.wav</td>\n",
       "      <td>36</td>\n",
       "      <td>vacuum_cleaner</td>\n",
       "    </tr>\n",
       "    <tr>\n",
       "      <th>4</th>\n",
       "      <td>1-101296-A-19.wav</td>\n",
       "      <td>19</td>\n",
       "      <td>thunderstorm</td>\n",
       "    </tr>\n",
       "  </tbody>\n",
       "</table>\n",
       "</div>"
      ],
      "text/plain": [
       "            filename  target        category\n",
       "0   1-100032-A-0.wav       0             dog\n",
       "1  1-100038-A-14.wav      14  chirping_birds\n",
       "2  1-100210-A-36.wav      36  vacuum_cleaner\n",
       "3  1-100210-B-36.wav      36  vacuum_cleaner\n",
       "4  1-101296-A-19.wav      19    thunderstorm"
      ]
     },
     "execution_count": 7,
     "metadata": {},
     "output_type": "execute_result"
    }
   ],
   "source": [
    "dataset.head()"
   ]
  },
  {
   "cell_type": "markdown",
   "id": "9dde587d",
   "metadata": {},
   "source": [
    "Add path attribute which gieves path to respective wav file"
   ]
  },
  {
   "cell_type": "code",
   "execution_count": 8,
   "id": "ac57ffa6",
   "metadata": {},
   "outputs": [],
   "source": [
    "dataset[\"path\"] = audio_folder_path + \"/\" + dataset[\"filename\"]"
   ]
  },
  {
   "cell_type": "code",
   "execution_count": 9,
   "id": "98adef9b",
   "metadata": {},
   "outputs": [
    {
     "data": {
      "text/html": [
       "<div>\n",
       "<style scoped>\n",
       "    .dataframe tbody tr th:only-of-type {\n",
       "        vertical-align: middle;\n",
       "    }\n",
       "\n",
       "    .dataframe tbody tr th {\n",
       "        vertical-align: top;\n",
       "    }\n",
       "\n",
       "    .dataframe thead th {\n",
       "        text-align: right;\n",
       "    }\n",
       "</style>\n",
       "<table border=\"1\" class=\"dataframe\">\n",
       "  <thead>\n",
       "    <tr style=\"text-align: right;\">\n",
       "      <th></th>\n",
       "      <th>filename</th>\n",
       "      <th>target</th>\n",
       "      <th>category</th>\n",
       "      <th>path</th>\n",
       "    </tr>\n",
       "  </thead>\n",
       "  <tbody>\n",
       "    <tr>\n",
       "      <th>0</th>\n",
       "      <td>1-100032-A-0.wav</td>\n",
       "      <td>0</td>\n",
       "      <td>dog</td>\n",
       "      <td>/Users/karanhadiyal/Desktop/esc/archive/audio/...</td>\n",
       "    </tr>\n",
       "    <tr>\n",
       "      <th>1</th>\n",
       "      <td>1-100038-A-14.wav</td>\n",
       "      <td>14</td>\n",
       "      <td>chirping_birds</td>\n",
       "      <td>/Users/karanhadiyal/Desktop/esc/archive/audio/...</td>\n",
       "    </tr>\n",
       "    <tr>\n",
       "      <th>2</th>\n",
       "      <td>1-100210-A-36.wav</td>\n",
       "      <td>36</td>\n",
       "      <td>vacuum_cleaner</td>\n",
       "      <td>/Users/karanhadiyal/Desktop/esc/archive/audio/...</td>\n",
       "    </tr>\n",
       "    <tr>\n",
       "      <th>3</th>\n",
       "      <td>1-100210-B-36.wav</td>\n",
       "      <td>36</td>\n",
       "      <td>vacuum_cleaner</td>\n",
       "      <td>/Users/karanhadiyal/Desktop/esc/archive/audio/...</td>\n",
       "    </tr>\n",
       "    <tr>\n",
       "      <th>4</th>\n",
       "      <td>1-101296-A-19.wav</td>\n",
       "      <td>19</td>\n",
       "      <td>thunderstorm</td>\n",
       "      <td>/Users/karanhadiyal/Desktop/esc/archive/audio/...</td>\n",
       "    </tr>\n",
       "  </tbody>\n",
       "</table>\n",
       "</div>"
      ],
      "text/plain": [
       "            filename  target        category  \\\n",
       "0   1-100032-A-0.wav       0             dog   \n",
       "1  1-100038-A-14.wav      14  chirping_birds   \n",
       "2  1-100210-A-36.wav      36  vacuum_cleaner   \n",
       "3  1-100210-B-36.wav      36  vacuum_cleaner   \n",
       "4  1-101296-A-19.wav      19    thunderstorm   \n",
       "\n",
       "                                                path  \n",
       "0  /Users/karanhadiyal/Desktop/esc/archive/audio/...  \n",
       "1  /Users/karanhadiyal/Desktop/esc/archive/audio/...  \n",
       "2  /Users/karanhadiyal/Desktop/esc/archive/audio/...  \n",
       "3  /Users/karanhadiyal/Desktop/esc/archive/audio/...  \n",
       "4  /Users/karanhadiyal/Desktop/esc/archive/audio/...  "
      ]
     },
     "execution_count": 9,
     "metadata": {},
     "output_type": "execute_result"
    }
   ],
   "source": [
    "dataset.head()"
   ]
  },
  {
   "cell_type": "markdown",
   "id": "e51e99d8",
   "metadata": {},
   "source": [
    "# Convert wav file to spectogram"
   ]
  },
  {
   "cell_type": "markdown",
   "id": "6a5a31b4",
   "metadata": {},
   "source": [
    "Function to read wav file and return in form of numpy array"
   ]
  },
  {
   "cell_type": "code",
   "execution_count": 14,
   "id": "7befc112",
   "metadata": {},
   "outputs": [],
   "source": [
    "def read_wav(writeFile):\n",
    "    desired_sr = 220500 #Desired sample rate\n",
    "    data, samplerate = librosa.load(writeFile, sr=None) #Load wav file on sample rate of 220500\n",
    "    \n",
    "    #change sample rate to desired sample rate\n",
    "    if data.shape[0] <= desired_sr:\n",
    "        newdata = np.zeros((desired_sr,))\n",
    "        newdata[: data.shape[0]] = data\n",
    "    else:\n",
    "        newdata = data[:desired_sr]\n",
    "    \n",
    "    #prepare wav on desired sample rate\n",
    "    dataN = np.shape(newdata)[0]\n",
    "    newdata = np.reshape(np.transpose(newdata),(1, dataN))\n",
    "    return newdata #return wav"
   ]
  },
  {
   "cell_type": "markdown",
   "id": "58ec9b91",
   "metadata": {},
   "source": [
    "Add \"read_wav\" attribute"
   ]
  },
  {
   "cell_type": "code",
   "execution_count": 15,
   "id": "055a93db",
   "metadata": {},
   "outputs": [],
   "source": [
    "dataset[\"read_wav\"] = dataset[\"path\"].apply(read_wav)"
   ]
  },
  {
   "cell_type": "markdown",
   "id": "aa744937",
   "metadata": {},
   "source": [
    "Function to get spectrum from respective read_wav attribute"
   ]
  },
  {
   "cell_type": "code",
   "execution_count": 16,
   "id": "150fa2fb",
   "metadata": {},
   "outputs": [],
   "source": [
    "def get_spectrum(signal, w, flag, channels):\n",
    "\n",
    "    signal = signal.astype('float32')  \n",
    "    Nsamples = np.size(signal, 1)\n",
    "    delmax = w / 4  # Maximum delay should be w / 4\n",
    "    res = np.where(channels <= delmax)\n",
    "    channels = channels[res]  #remove channels not satisfyiong this condition. \n",
    "    m = np.shape(channels)[0]\n",
    "    \n",
    "\n",
    "    spectrograms = Nsamples // w # Number of spectrograms\n",
    "    Samples = spectrograms * w # The number of samples used to compute the spectrograms\n",
    "    matrix = np.reshape(signal[0, 0 : Samples], (spectrograms, w)) # Each line is one to be submited for computation of spectrogram \n",
    "    \n",
    "    spectrum = np.zeros((m, spectrograms)) # Spectrum initialization\n",
    "    for i in range(0, spectrograms):\n",
    "        values = matrix[i, :] # The whole line \n",
    "        for k in range(0, m):\n",
    "            delay = channels[k]  # Delay  \n",
    "            t = np.array(range(delay, w-delay-1))\n",
    "            difus = np.abs(values[t - delay] + values[t + delay] - 2 * values[t])\n",
    "            \n",
    "            if flag == 0:\n",
    "                spectrum[k, i] = np.mean(difus) / 4\n",
    "            elif flag == 1:\n",
    "                spectrum[k, i] = np.mean(difus / (np.abs(values[t - delay]) + np.abs(values[t + delay]) + 2 * np.abs(values[t]) + 1e-12)) / 4\n",
    "    return spectrum"
   ]
  },
  {
   "cell_type": "code",
   "execution_count": 17,
   "id": "5a6d5b3b",
   "metadata": {},
   "outputs": [],
   "source": [
    "channels = np.array([2, 4, 8, 16, 20, 32, 50, 64, 100, 128, 200, 300]) #Channels for wav file"
   ]
  },
  {
   "cell_type": "markdown",
   "id": "b14cd7da",
   "metadata": {},
   "source": [
    "Add spectrum attribute"
   ]
  },
  {
   "cell_type": "code",
   "execution_count": 32,
   "id": "d1957c42",
   "metadata": {},
   "outputs": [],
   "source": [
    "dataset[\"spectrum\"] = dataset[\"read_wav\"].apply(get_spectrum, args = (1000,0,channels))"
   ]
  },
  {
   "cell_type": "markdown",
   "id": "54cd74f0",
   "metadata": {},
   "source": [
    "Prepare input data and labels"
   ]
  },
  {
   "cell_type": "code",
   "execution_count": 91,
   "id": "7eb75b9e",
   "metadata": {},
   "outputs": [],
   "source": [
    "images = dataset[\"spectrum\"]\n",
    "labels = dataset[\"target\"]"
   ]
  },
  {
   "cell_type": "markdown",
   "id": "2cc260ab",
   "metadata": {},
   "source": [
    "Prepare train and test data"
   ]
  },
  {
   "cell_type": "code",
   "execution_count": 92,
   "id": "3aac89b2",
   "metadata": {},
   "outputs": [],
   "source": [
    "images, labels = images.to_list(), labels.to_list()\n",
    "images, labels = np.array(images, dtype='float32'), np.array(labels, dtype='float32')\n",
    "\n",
    "train_images, test_images, train_labels, test_labels = train_test_split(images, labels, test_size=0.2)"
   ]
  },
  {
   "cell_type": "markdown",
   "id": "cfeaa10d",
   "metadata": {},
   "source": [
    "# Build and train model"
   ]
  },
  {
   "cell_type": "markdown",
   "id": "bb1e8ff0",
   "metadata": {},
   "source": [
    "Import dependencies"
   ]
  },
  {
   "cell_type": "code",
   "execution_count": 93,
   "id": "0c884995",
   "metadata": {},
   "outputs": [
    {
     "data": {
      "text/plain": [
       "(11, 220)"
      ]
     },
     "execution_count": 93,
     "metadata": {},
     "output_type": "execute_result"
    }
   ],
   "source": [
    "dataset[\"spectrum\"][0].shape"
   ]
  },
  {
   "cell_type": "code",
   "execution_count": 95,
   "id": "7061eabe",
   "metadata": {},
   "outputs": [],
   "source": [
    "(x,y) = dataset[\"spectrum\"][0].shape\n",
    "function = activations.selu\n",
    "\n",
    "model = models.Sequential()\n",
    "model.add(layers.Conv2D(filters=40, kernel_size=(1,1), padding=\"same\", activation=function, input_shape=(x, y, 1)))\n",
    "model.add(layers.MaxPooling2D(pool_size=(2, 2), strides=(1, 1), padding=\"same\"))\n",
    "model.add(layers.Conv2D(filters=40, kernel_size=(3,3), padding=\"same\", activation=function))\n",
    "\n",
    "model.add(layers.Conv2D(filters=50, kernel_size=(1,1), padding=\"same\", activation=function))\n",
    "model.add(layers.MaxPooling2D(pool_size=(3, 3), strides=(2, 2), padding=\"same\"))\n",
    "model.add(layers.Conv2D(filters=50, kernel_size=(5,5), padding=\"same\", activation=function))\n",
    "\n",
    "model.add(layers.Conv2D(filters=60, kernel_size=(1,1), padding=\"same\", activation=function))\n",
    "model.add(layers.MaxPooling2D(pool_size=(4, 4), strides=(2, 2), padding=\"same\"))\n",
    "model.add(layers.Conv2D(filters=60, kernel_size=(7,7), padding=\"same\", activation=function))\n",
    "\n",
    "model.add(layers.GlobalAveragePooling2D())\n",
    "model.add(layers.Dense(200))\n",
    "model.add(layers.Dropout(0.25))\n",
    "model.add(layers.Dense(50))"
   ]
  },
  {
   "cell_type": "code",
   "execution_count": 96,
   "id": "c4a3fad1",
   "metadata": {},
   "outputs": [
    {
     "name": "stdout",
     "output_type": "stream",
     "text": [
      "Model: \"sequential_1\"\n",
      "_________________________________________________________________\n",
      " Layer (type)                Output Shape              Param #   \n",
      "=================================================================\n",
      " conv2d_38 (Conv2D)          (None, 11, 220, 40)       80        \n",
      "                                                                 \n",
      " max_pooling2d_17 (MaxPoolin  (None, 11, 220, 40)      0         \n",
      " g2D)                                                            \n",
      "                                                                 \n",
      " conv2d_39 (Conv2D)          (None, 11, 220, 40)       14440     \n",
      "                                                                 \n",
      " conv2d_40 (Conv2D)          (None, 11, 220, 50)       2050      \n",
      "                                                                 \n",
      " max_pooling2d_18 (MaxPoolin  (None, 6, 110, 50)       0         \n",
      " g2D)                                                            \n",
      "                                                                 \n",
      " conv2d_41 (Conv2D)          (None, 6, 110, 50)        62550     \n",
      "                                                                 \n",
      " conv2d_42 (Conv2D)          (None, 6, 110, 60)        3060      \n",
      "                                                                 \n",
      " max_pooling2d_19 (MaxPoolin  (None, 3, 55, 60)        0         \n",
      " g2D)                                                            \n",
      "                                                                 \n",
      " conv2d_43 (Conv2D)          (None, 3, 55, 60)         176460    \n",
      "                                                                 \n",
      " global_average_pooling2d_1   (None, 60)               0         \n",
      " (GlobalAveragePooling2D)                                        \n",
      "                                                                 \n",
      " dense_12 (Dense)            (None, 200)               12200     \n",
      "                                                                 \n",
      " dropout_15 (Dropout)        (None, 200)               0         \n",
      "                                                                 \n",
      " dense_13 (Dense)            (None, 50)                10050     \n",
      "                                                                 \n",
      "=================================================================\n",
      "Total params: 280,890\n",
      "Trainable params: 280,890\n",
      "Non-trainable params: 0\n",
      "_________________________________________________________________\n"
     ]
    }
   ],
   "source": [
    "model.summary()"
   ]
  },
  {
   "cell_type": "code",
   "execution_count": 97,
   "id": "6dfad9c2",
   "metadata": {},
   "outputs": [],
   "source": [
    "model.compile(optimizer='adam',loss=tf.keras.losses.SparseCategoricalCrossentropy(from_logits=True),metrics=['accuracy'])"
   ]
  },
  {
   "cell_type": "code",
   "execution_count": 98,
   "id": "5e76b119",
   "metadata": {},
   "outputs": [
    {
     "name": "stdout",
     "output_type": "stream",
     "text": [
      "Epoch 1/75\n",
      "50/50 [==============================] - 6s 107ms/step - loss: 3.7888 - accuracy: 0.0375 - val_loss: 3.5809 - val_accuracy: 0.0625\n",
      "Epoch 2/75\n",
      "50/50 [==============================] - 5s 106ms/step - loss: 3.4626 - accuracy: 0.0869 - val_loss: 3.2939 - val_accuracy: 0.1100\n",
      "Epoch 3/75\n",
      "50/50 [==============================] - 5s 107ms/step - loss: 3.1778 - accuracy: 0.1394 - val_loss: 2.9467 - val_accuracy: 0.1575\n",
      "Epoch 4/75\n",
      "50/50 [==============================] - 5s 105ms/step - loss: 2.9343 - accuracy: 0.1875 - val_loss: 2.7372 - val_accuracy: 0.2425\n",
      "Epoch 5/75\n",
      "50/50 [==============================] - 5s 105ms/step - loss: 2.7237 - accuracy: 0.2250 - val_loss: 2.6779 - val_accuracy: 0.2375\n",
      "Epoch 6/75\n",
      "50/50 [==============================] - 5s 109ms/step - loss: 2.5618 - accuracy: 0.2606 - val_loss: 2.4510 - val_accuracy: 0.3175\n",
      "Epoch 7/75\n",
      "50/50 [==============================] - 5s 107ms/step - loss: 2.4021 - accuracy: 0.3175 - val_loss: 2.2999 - val_accuracy: 0.3425\n",
      "Epoch 8/75\n",
      "50/50 [==============================] - 5s 105ms/step - loss: 2.2812 - accuracy: 0.3406 - val_loss: 2.1985 - val_accuracy: 0.3450\n",
      "Epoch 9/75\n",
      "50/50 [==============================] - 5s 107ms/step - loss: 2.2359 - accuracy: 0.3525 - val_loss: 2.2280 - val_accuracy: 0.3675\n",
      "Epoch 10/75\n",
      "50/50 [==============================] - 5s 107ms/step - loss: 2.1189 - accuracy: 0.3800 - val_loss: 2.0884 - val_accuracy: 0.3900\n",
      "Epoch 11/75\n",
      "50/50 [==============================] - 6s 110ms/step - loss: 1.9703 - accuracy: 0.4162 - val_loss: 2.0477 - val_accuracy: 0.4125\n",
      "Epoch 12/75\n",
      "50/50 [==============================] - 5s 107ms/step - loss: 1.9424 - accuracy: 0.4281 - val_loss: 1.9388 - val_accuracy: 0.4575\n",
      "Epoch 13/75\n",
      "50/50 [==============================] - 5s 109ms/step - loss: 1.7916 - accuracy: 0.4631 - val_loss: 1.8943 - val_accuracy: 0.4425\n",
      "Epoch 14/75\n",
      "50/50 [==============================] - 5s 107ms/step - loss: 1.7149 - accuracy: 0.4988 - val_loss: 2.0099 - val_accuracy: 0.4375\n",
      "Epoch 15/75\n",
      "50/50 [==============================] - 5s 108ms/step - loss: 1.6470 - accuracy: 0.5106 - val_loss: 1.9704 - val_accuracy: 0.4400\n",
      "Epoch 16/75\n",
      "50/50 [==============================] - 5s 109ms/step - loss: 1.5665 - accuracy: 0.5325 - val_loss: 1.6931 - val_accuracy: 0.5250\n",
      "Epoch 17/75\n",
      "50/50 [==============================] - 5s 107ms/step - loss: 1.3996 - accuracy: 0.5619 - val_loss: 1.6941 - val_accuracy: 0.5375\n",
      "Epoch 18/75\n",
      "50/50 [==============================] - 5s 108ms/step - loss: 1.3531 - accuracy: 0.5863 - val_loss: 1.6973 - val_accuracy: 0.5450\n",
      "Epoch 19/75\n",
      "50/50 [==============================] - 5s 108ms/step - loss: 1.3393 - accuracy: 0.5825 - val_loss: 1.7096 - val_accuracy: 0.5475\n",
      "Epoch 20/75\n",
      "50/50 [==============================] - 5s 106ms/step - loss: 1.3643 - accuracy: 0.5894 - val_loss: 1.6302 - val_accuracy: 0.5525\n",
      "Epoch 21/75\n",
      "50/50 [==============================] - 5s 108ms/step - loss: 1.2612 - accuracy: 0.6162 - val_loss: 1.6946 - val_accuracy: 0.5350\n",
      "Epoch 22/75\n",
      "50/50 [==============================] - 5s 109ms/step - loss: 1.2074 - accuracy: 0.6281 - val_loss: 1.7258 - val_accuracy: 0.5625\n",
      "Epoch 23/75\n",
      "50/50 [==============================] - 6s 112ms/step - loss: 1.2031 - accuracy: 0.6237 - val_loss: 1.7344 - val_accuracy: 0.5425\n",
      "Epoch 24/75\n",
      "50/50 [==============================] - 5s 109ms/step - loss: 1.1665 - accuracy: 0.6331 - val_loss: 1.6063 - val_accuracy: 0.5750\n",
      "Epoch 25/75\n",
      "50/50 [==============================] - 5s 108ms/step - loss: 1.0828 - accuracy: 0.6712 - val_loss: 1.6751 - val_accuracy: 0.5750\n",
      "Epoch 26/75\n",
      "50/50 [==============================] - 5s 110ms/step - loss: 1.0390 - accuracy: 0.6731 - val_loss: 1.6692 - val_accuracy: 0.5400\n",
      "Epoch 27/75\n",
      "50/50 [==============================] - 5s 109ms/step - loss: 1.0345 - accuracy: 0.6650 - val_loss: 1.7612 - val_accuracy: 0.5575\n",
      "Epoch 28/75\n",
      "50/50 [==============================] - 5s 107ms/step - loss: 0.9813 - accuracy: 0.6994 - val_loss: 1.7202 - val_accuracy: 0.5325\n",
      "Epoch 29/75\n",
      "50/50 [==============================] - 5s 108ms/step - loss: 0.9947 - accuracy: 0.6975 - val_loss: 1.5645 - val_accuracy: 0.5975\n",
      "Epoch 30/75\n",
      "50/50 [==============================] - 5s 109ms/step - loss: 0.9480 - accuracy: 0.6913 - val_loss: 1.5355 - val_accuracy: 0.6000\n",
      "Epoch 31/75\n",
      "50/50 [==============================] - 5s 109ms/step - loss: 0.8414 - accuracy: 0.7444 - val_loss: 1.6542 - val_accuracy: 0.5925\n",
      "Epoch 32/75\n",
      "50/50 [==============================] - 5s 110ms/step - loss: 0.8488 - accuracy: 0.7406 - val_loss: 1.4763 - val_accuracy: 0.6575\n",
      "Epoch 33/75\n",
      "50/50 [==============================] - 6s 110ms/step - loss: 0.8337 - accuracy: 0.7475 - val_loss: 1.5301 - val_accuracy: 0.6400\n",
      "Epoch 34/75\n",
      "50/50 [==============================] - 5s 108ms/step - loss: 0.7642 - accuracy: 0.7494 - val_loss: 1.5024 - val_accuracy: 0.6350\n",
      "Epoch 35/75\n",
      "50/50 [==============================] - 5s 109ms/step - loss: 0.7979 - accuracy: 0.7475 - val_loss: 1.5453 - val_accuracy: 0.6400\n",
      "Epoch 36/75\n",
      "50/50 [==============================] - 5s 108ms/step - loss: 0.7339 - accuracy: 0.7675 - val_loss: 1.5798 - val_accuracy: 0.6000\n",
      "Epoch 37/75\n",
      "50/50 [==============================] - 5s 108ms/step - loss: 0.7568 - accuracy: 0.7569 - val_loss: 1.5163 - val_accuracy: 0.6125\n",
      "Epoch 38/75\n",
      "50/50 [==============================] - 5s 108ms/step - loss: 0.6774 - accuracy: 0.7800 - val_loss: 1.4160 - val_accuracy: 0.6425\n",
      "Epoch 39/75\n",
      "50/50 [==============================] - 5s 106ms/step - loss: 0.6283 - accuracy: 0.7944 - val_loss: 1.4988 - val_accuracy: 0.6450\n",
      "Epoch 40/75\n",
      "50/50 [==============================] - 5s 109ms/step - loss: 0.5919 - accuracy: 0.8112 - val_loss: 1.7512 - val_accuracy: 0.6225\n",
      "Epoch 41/75\n",
      "50/50 [==============================] - 5s 109ms/step - loss: 0.5839 - accuracy: 0.8194 - val_loss: 1.5913 - val_accuracy: 0.6300\n",
      "Epoch 42/75\n",
      "50/50 [==============================] - 5s 108ms/step - loss: 0.6310 - accuracy: 0.7994 - val_loss: 1.5890 - val_accuracy: 0.6300\n",
      "Epoch 43/75\n",
      "50/50 [==============================] - 5s 110ms/step - loss: 0.5764 - accuracy: 0.8100 - val_loss: 1.5093 - val_accuracy: 0.6700\n",
      "Epoch 44/75\n",
      "50/50 [==============================] - 6s 110ms/step - loss: 0.4894 - accuracy: 0.8394 - val_loss: 1.6947 - val_accuracy: 0.6275\n",
      "Epoch 45/75\n",
      "50/50 [==============================] - 5s 108ms/step - loss: 0.5595 - accuracy: 0.8206 - val_loss: 1.5994 - val_accuracy: 0.6600\n",
      "Epoch 46/75\n",
      "50/50 [==============================] - 5s 109ms/step - loss: 0.5208 - accuracy: 0.8369 - val_loss: 1.5131 - val_accuracy: 0.6700\n",
      "Epoch 47/75\n",
      "50/50 [==============================] - 5s 109ms/step - loss: 0.5320 - accuracy: 0.8394 - val_loss: 1.6814 - val_accuracy: 0.6375\n",
      "Epoch 48/75\n",
      "50/50 [==============================] - 5s 108ms/step - loss: 0.5512 - accuracy: 0.8119 - val_loss: 1.6834 - val_accuracy: 0.6475\n",
      "Epoch 49/75\n",
      "50/50 [==============================] - 5s 108ms/step - loss: 0.5182 - accuracy: 0.8338 - val_loss: 1.5332 - val_accuracy: 0.6550\n",
      "Epoch 50/75\n",
      "50/50 [==============================] - 5s 106ms/step - loss: 0.4443 - accuracy: 0.8481 - val_loss: 1.5554 - val_accuracy: 0.6675\n",
      "Epoch 51/75\n",
      "50/50 [==============================] - 5s 108ms/step - loss: 0.4759 - accuracy: 0.8462 - val_loss: 1.8020 - val_accuracy: 0.6325\n",
      "Epoch 52/75\n",
      "50/50 [==============================] - 5s 108ms/step - loss: 0.4820 - accuracy: 0.8462 - val_loss: 1.7284 - val_accuracy: 0.6400\n",
      "Epoch 53/75\n",
      "50/50 [==============================] - 5s 109ms/step - loss: 0.4146 - accuracy: 0.8556 - val_loss: 1.6799 - val_accuracy: 0.6850\n",
      "Epoch 54/75\n",
      "50/50 [==============================] - 5s 108ms/step - loss: 0.3868 - accuracy: 0.8775 - val_loss: 1.8031 - val_accuracy: 0.6525\n",
      "Epoch 55/75\n",
      "50/50 [==============================] - 5s 109ms/step - loss: 0.3883 - accuracy: 0.8831 - val_loss: 1.7290 - val_accuracy: 0.6700\n",
      "Epoch 56/75\n",
      "50/50 [==============================] - 5s 108ms/step - loss: 0.4793 - accuracy: 0.8506 - val_loss: 2.0080 - val_accuracy: 0.6200\n",
      "Epoch 57/75\n",
      "50/50 [==============================] - 5s 108ms/step - loss: 0.4387 - accuracy: 0.8637 - val_loss: 1.8434 - val_accuracy: 0.6300\n",
      "Epoch 58/75\n",
      "50/50 [==============================] - 5s 108ms/step - loss: 0.3675 - accuracy: 0.8788 - val_loss: 1.8259 - val_accuracy: 0.6625\n",
      "Epoch 59/75\n",
      "50/50 [==============================] - 5s 107ms/step - loss: 0.3586 - accuracy: 0.8950 - val_loss: 1.7500 - val_accuracy: 0.6475\n",
      "Epoch 60/75\n",
      "50/50 [==============================] - 5s 109ms/step - loss: 0.4323 - accuracy: 0.8731 - val_loss: 1.6408 - val_accuracy: 0.6775\n",
      "Epoch 61/75\n",
      "50/50 [==============================] - 5s 106ms/step - loss: 0.3275 - accuracy: 0.9031 - val_loss: 1.6795 - val_accuracy: 0.6850\n",
      "Epoch 62/75\n",
      "50/50 [==============================] - 5s 108ms/step - loss: 0.3324 - accuracy: 0.8825 - val_loss: 1.7885 - val_accuracy: 0.6525\n",
      "Epoch 63/75\n",
      "50/50 [==============================] - 5s 106ms/step - loss: 0.3204 - accuracy: 0.8894 - val_loss: 1.7558 - val_accuracy: 0.6625\n",
      "Epoch 64/75\n",
      "50/50 [==============================] - 5s 106ms/step - loss: 0.2571 - accuracy: 0.9162 - val_loss: 1.9286 - val_accuracy: 0.6475\n",
      "Epoch 65/75\n",
      "50/50 [==============================] - 5s 108ms/step - loss: 0.4108 - accuracy: 0.8763 - val_loss: 2.1525 - val_accuracy: 0.6300\n",
      "Epoch 66/75\n",
      "50/50 [==============================] - 5s 109ms/step - loss: 0.4340 - accuracy: 0.8625 - val_loss: 1.9979 - val_accuracy: 0.6500\n",
      "Epoch 67/75\n",
      "50/50 [==============================] - 5s 108ms/step - loss: 0.3175 - accuracy: 0.9013 - val_loss: 1.8268 - val_accuracy: 0.6550\n",
      "Epoch 68/75\n",
      "50/50 [==============================] - 5s 106ms/step - loss: 0.3034 - accuracy: 0.8963 - val_loss: 2.0691 - val_accuracy: 0.6250\n",
      "Epoch 69/75\n",
      "50/50 [==============================] - 5s 107ms/step - loss: 0.2710 - accuracy: 0.9144 - val_loss: 1.8645 - val_accuracy: 0.6725\n",
      "Epoch 70/75\n",
      "50/50 [==============================] - 5s 107ms/step - loss: 0.2484 - accuracy: 0.9175 - val_loss: 1.9246 - val_accuracy: 0.6650\n",
      "Epoch 71/75\n",
      "50/50 [==============================] - 5s 108ms/step - loss: 0.2795 - accuracy: 0.9087 - val_loss: 1.8611 - val_accuracy: 0.6800\n",
      "Epoch 72/75\n",
      "50/50 [==============================] - 5s 107ms/step - loss: 0.2137 - accuracy: 0.9375 - val_loss: 1.7971 - val_accuracy: 0.6900\n",
      "Epoch 73/75\n",
      "50/50 [==============================] - 5s 106ms/step - loss: 0.2471 - accuracy: 0.9262 - val_loss: 2.0702 - val_accuracy: 0.6575\n",
      "Epoch 74/75\n",
      "50/50 [==============================] - 5s 110ms/step - loss: 0.2110 - accuracy: 0.9362 - val_loss: 1.8742 - val_accuracy: 0.6700\n",
      "Epoch 75/75\n",
      "50/50 [==============================] - 5s 107ms/step - loss: 0.1482 - accuracy: 0.9531 - val_loss: 1.8288 - val_accuracy: 0.7000\n"
     ]
    }
   ],
   "source": [
    "model.fit(train_images,train_labels,epochs=75,validation_data=(test_images,test_labels))"
   ]
  },
  {
   "cell_type": "markdown",
   "id": "9290ebce",
   "metadata": {},
   "source": [
    "Save the model"
   ]
  },
  {
   "cell_type": "code",
   "execution_count": 106,
   "id": "532c768e",
   "metadata": {},
   "outputs": [],
   "source": [
    "model.save(\"model.h5\")"
   ]
  },
  {
   "cell_type": "markdown",
   "id": "89599a38",
   "metadata": {},
   "source": [
    "Test accuracy and test loss"
   ]
  },
  {
   "cell_type": "code",
   "execution_count": 107,
   "id": "6a8fd6e4",
   "metadata": {},
   "outputs": [
    {
     "name": "stdout",
     "output_type": "stream",
     "text": [
      "13/13 [==============================] - 1s 42ms/step - loss: 1.8288 - accuracy: 0.7000\n",
      "0.699999988079071\n"
     ]
    }
   ],
   "source": [
    "test_loss, test_acc = model.evaluate(test_images,  test_labels, verbose=1)\n",
    "print(test_acc)"
   ]
  }
 ],
 "metadata": {
  "kernelspec": {
   "display_name": "Python 3 (ipykernel)",
   "language": "python",
   "name": "python3"
  },
  "language_info": {
   "codemirror_mode": {
    "name": "ipython",
    "version": 3
   },
   "file_extension": ".py",
   "mimetype": "text/x-python",
   "name": "python",
   "nbconvert_exporter": "python",
   "pygments_lexer": "ipython3",
   "version": "3.10.9"
  }
 },
 "nbformat": 4,
 "nbformat_minor": 5
}
