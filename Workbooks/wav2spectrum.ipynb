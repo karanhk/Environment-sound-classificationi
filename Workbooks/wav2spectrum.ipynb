{
 "cells": [
  {
   "cell_type": "markdown",
   "id": "06646041",
   "metadata": {},
   "source": [
    "# Workbook to convert wav to spectrum."
   ]
  },
  {
   "cell_type": "markdown",
   "id": "4c423f8f",
   "metadata": {},
   "source": [
    "### This workbook read wav of total samples 220500 and after processing, converts into numpy array of 11x220."
   ]
  },
  {
   "cell_type": "markdown",
   "id": "59921d3d",
   "metadata": {},
   "source": [
    "## Import libraries"
   ]
  },
  {
   "cell_type": "code",
   "execution_count": 1,
   "id": "24866021",
   "metadata": {},
   "outputs": [],
   "source": [
    "import librosa\n",
    "import os\n",
    "import numpy as np\n",
    "import librosa.display\n",
    "import matplotlib.pyplot as plt\n",
    "from sklearn.model_selection import train_test_split\n",
    "from IPython.display import Audio, Image\n",
    "import pandas as pd\n",
    "\n",
    "pd.options.mode.chained_assignment = None"
   ]
  },
  {
   "cell_type": "markdown",
   "id": "7bec9846",
   "metadata": {},
   "source": [
    "## Path to audio folder"
   ]
  },
  {
   "cell_type": "code",
   "execution_count": 2,
   "id": "f310a18c",
   "metadata": {},
   "outputs": [],
   "source": [
    "audio_folder_path = \"/Users/karanhadiyal/Desktop/Environmental-sound-recognition/audio/audio/\"\n",
    "csv_path = \"/Users/karanhadiyal/Desktop/Environmental-sound-recognition/audio/esc50.csv\""
   ]
  },
  {
   "cell_type": "markdown",
   "id": "d0eade26",
   "metadata": {},
   "source": [
    "# Read and preprocess dataframe"
   ]
  },
  {
   "cell_type": "code",
   "execution_count": 3,
   "id": "11e197b0",
   "metadata": {},
   "outputs": [],
   "source": [
    "df = pd.read_csv(csv_path)\n",
    "df.drop(columns=[\"fold\",\"category\",\"esc10\",\"src_file\",\"take\"],axis=1,inplace=True)\n",
    "df[\"path\"] = audio_folder_path + df[\"filename\"]"
   ]
  },
  {
   "cell_type": "markdown",
   "id": "e2b51e4b",
   "metadata": {},
   "source": [
    "# Function to read wav file"
   ]
  },
  {
   "cell_type": "code",
   "execution_count": 4,
   "id": "f3096b20",
   "metadata": {},
   "outputs": [],
   "source": [
    "def read_wav(writeFile):\n",
    "    desired_sr = 220500 #desired sample rate (upper limit on sample rate)\n",
    "    data, samplerate = librosa.load(writeFile, sr=None) #load wav file\n",
    "    \n",
    "    #if wav file's total samples are less than desired sr\n",
    "    if data.shape[0] < desired_sr:\n",
    "        newdata = np.zeros((desired_sr,))\n",
    "        newdata[: data.shape[0]] = data #append remaining zeros\n",
    "    else:\n",
    "        newdata = data[:desired_sr] #else trim array upto desired_sr\n",
    "    \n",
    "    #prepare wav on desired sample rate\n",
    "    dataN = np.shape(newdata)[0]\n",
    "    newdata = np.reshape(np.transpose(newdata),(1, dataN))\n",
    "    return newdata #return wav"
   ]
  },
  {
   "cell_type": "markdown",
   "id": "098b76ce",
   "metadata": {},
   "source": [
    "## Function to get spectrum"
   ]
  },
  {
   "cell_type": "code",
   "execution_count": 5,
   "id": "8ee498a3",
   "metadata": {},
   "outputs": [],
   "source": [
    "def get_spectrum(signal, w, flag, channels):\n",
    "\n",
    "    signal = signal.astype('float32')  \n",
    "    Nsamples = np.size(signal, 1) #220500, number of samples\n",
    "    delmax = w / 4  # #250\n",
    "    res = np.where(channels <= delmax) #[0,1,2,...,10]\n",
    "    channels = channels[res]  #[2,4,8,...,200]\n",
    "    m = np.shape(channels)[0] #11 channels in consideration\n",
    "    \n",
    "\n",
    "    spectrograms = Nsamples // w #220\n",
    "    Samples = spectrograms * w #220000\n",
    "    # out of 220500 samples, taking first 220000 and reshaping to (220,1000)\n",
    "    matrix = np.reshape(signal[0, 0 : Samples], (spectrograms, w))\n",
    "    spectrum = np.zeros((m, spectrograms)) #shape of (11,220)\n",
    "    \n",
    "    for i in range(0, spectrograms): #0 to 220\n",
    "        \n",
    "        values = matrix[i, :] # 220 spectrogram each of 1000 samples, pick one here\n",
    "        for k in range(0, m): #0 to 11 (channels)\n",
    "            \n",
    "            delay = channels[k]  # # delay will be from [2,4,8,...,200]\n",
    "            t = np.array(range(delay, w-delay-1))\n",
    "            difus = np.abs(values[t - delay] + values[t + delay] - 2 * values[t])\n",
    "            \n",
    "            if flag == 0:\n",
    "                spectrum[k, i] = np.mean(difus) / 4\n",
    "            elif flag == 1:\n",
    "                \n",
    "                spectrum[k, i] = np.mean(difus / (np.abs(values[t - delay]) + np.abs(values[t + delay]) + 2 * np.abs(values[t]) + 1e-12)) / 4\n",
    "    return spectrum"
   ]
  },
  {
   "cell_type": "code",
   "execution_count": 6,
   "id": "6a738875",
   "metadata": {},
   "outputs": [],
   "source": [
    "channels = np.array([2, 4, 8, 16, 20, 32, 50, 64, 100, 128, 200, 300]) #Channels for wav file"
   ]
  },
  {
   "cell_type": "markdown",
   "id": "bc349b8a",
   "metadata": {},
   "source": [
    "## Read wav"
   ]
  },
  {
   "cell_type": "code",
   "execution_count": 10,
   "id": "e9b9325d",
   "metadata": {},
   "outputs": [],
   "source": [
    "df[\"read_wav\"] = df[\"path\"].apply(read_wav)"
   ]
  },
  {
   "cell_type": "markdown",
   "id": "928c12d0",
   "metadata": {},
   "source": [
    "## Get spectrum"
   ]
  },
  {
   "cell_type": "code",
   "execution_count": 12,
   "id": "12b47f2c",
   "metadata": {},
   "outputs": [],
   "source": [
    "df[\"spectrum\"] = df[\"read_wav\"].apply(get_spectrum, args = (1000,0,channels))"
   ]
  },
  {
   "cell_type": "markdown",
   "id": "c53f9faf",
   "metadata": {},
   "source": [
    "## Save in form of pickle"
   ]
  },
  {
   "cell_type": "code",
   "execution_count": 27,
   "id": "9b4845b3",
   "metadata": {},
   "outputs": [],
   "source": [
    "dataset_path = \"/Users/karanhadiyal/Desktop/Environmental-sound-recognition/audio/dataset.pkl\"\n",
    "df.to_pickle(csv_path)"
   ]
  }
 ],
 "metadata": {
  "kernelspec": {
   "display_name": "Python 3 (ipykernel)",
   "language": "python",
   "name": "python3"
  },
  "language_info": {
   "codemirror_mode": {
    "name": "ipython",
    "version": 3
   },
   "file_extension": ".py",
   "mimetype": "text/x-python",
   "name": "python",
   "nbconvert_exporter": "python",
   "pygments_lexer": "ipython3",
   "version": "3.10.9"
  }
 },
 "nbformat": 4,
 "nbformat_minor": 5
}
